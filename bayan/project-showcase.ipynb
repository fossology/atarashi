{
 "cells": [
  {
   "cell_type": "code",
   "execution_count": 1,
   "metadata": {},
   "outputs": [],
   "source": [
    "from helpers.models import Models\n",
    "from helpers.llm_client import LLMClient\n",
    "from helpers.functions import *\n",
    "from helpers.prompts import *\n",
    "import pandas as pd\n",
    "import re\n",
    "import os\n",
    "\n",
    "# pd.set_option('display.max_rows', None)    # Show all rows\n",
    "# pd.set_option('display.max_colwidth', None)  # Show full column width"
   ]
  },
  {
   "cell_type": "code",
   "execution_count": 2,
   "metadata": {},
   "outputs": [],
   "source": [
    "# If the keys are not present, add these lines to ~/.bashrc\n",
    "# sudo gedit ~/.bashrc\n",
    "# ! Add your own API keys here, currently all 3 give a level of free access with GRoQ being the most free\n",
    "# export GROQ_API_KEY = \"\"\n",
    "# export NVIDIA_API_KEY = \"\"\n",
    "# export TOGETHER_API_KEY = \"\""
   ]
  },
  {
   "cell_type": "code",
   "execution_count": 3,
   "metadata": {},
   "outputs": [
    {
     "data": {
      "text/plain": [
       "'OK'"
      ]
     },
     "execution_count": 3,
     "metadata": {},
     "output_type": "execute_result"
    }
   ],
   "source": [
    "# Check to make sure that all API keys are present\n",
    "os.environ['GROQ_API_KEY'] \n",
    "os.environ['NVIDIA_API_KEY']\n",
    "os.environ['TOGETHER_API_KEY']    \n",
    "'OK'\n",
    "#"
   ]
  },
  {
   "cell_type": "markdown",
   "metadata": {},
   "source": [
    "### Semantic Search"
   ]
  },
  {
   "cell_type": "code",
   "execution_count": 4,
   "metadata": {},
   "outputs": [
    {
     "data": {
      "text/html": [
       "<div>\n",
       "<style scoped>\n",
       "    .dataframe tbody tr th:only-of-type {\n",
       "        vertical-align: middle;\n",
       "    }\n",
       "\n",
       "    .dataframe tbody tr th {\n",
       "        vertical-align: top;\n",
       "    }\n",
       "\n",
       "    .dataframe thead th {\n",
       "        text-align: right;\n",
       "    }\n",
       "</style>\n",
       "<table border=\"1\" class=\"dataframe\">\n",
       "  <thead>\n",
       "    <tr style=\"text-align: right;\">\n",
       "      <th></th>\n",
       "      <th>file_path</th>\n",
       "      <th>license</th>\n",
       "    </tr>\n",
       "  </thead>\n",
       "  <tbody>\n",
       "    <tr>\n",
       "      <th>0</th>\n",
       "      <td>extras/NomosTestfiles/AAL/AAL.txt</td>\n",
       "      <td>AAL</td>\n",
       "    </tr>\n",
       "    <tr>\n",
       "      <th>1</th>\n",
       "      <td>extras/NomosTestfiles/AAL/LICENSE</td>\n",
       "      <td>AAL</td>\n",
       "    </tr>\n",
       "    <tr>\n",
       "      <th>2</th>\n",
       "      <td>extras/NomosTestfiles/Abstyles/Abstyles.txt</td>\n",
       "      <td>Abstyles</td>\n",
       "    </tr>\n",
       "    <tr>\n",
       "      <th>3</th>\n",
       "      <td>extras/NomosTestfiles/ACAA/c32001a.ada</td>\n",
       "      <td>Govt-rights,UnclassifiedLicense</td>\n",
       "    </tr>\n",
       "    <tr>\n",
       "      <th>4</th>\n",
       "      <td>extras/NomosTestfiles/ACE/ACE-copying.html</td>\n",
       "      <td>ACE</td>\n",
       "    </tr>\n",
       "  </tbody>\n",
       "</table>\n",
       "</div>"
      ],
      "text/plain": [
       "                                     file_path  \\\n",
       "0            extras/NomosTestfiles/AAL/AAL.txt   \n",
       "1            extras/NomosTestfiles/AAL/LICENSE   \n",
       "2  extras/NomosTestfiles/Abstyles/Abstyles.txt   \n",
       "3       extras/NomosTestfiles/ACAA/c32001a.ada   \n",
       "4   extras/NomosTestfiles/ACE/ACE-copying.html   \n",
       "\n",
       "                           license  \n",
       "0                              AAL  \n",
       "1                              AAL  \n",
       "2                         Abstyles  \n",
       "3  Govt-rights,UnclassifiedLicense  \n",
       "4                              ACE  "
      ]
     },
     "execution_count": 4,
     "metadata": {},
     "output_type": "execute_result"
    }
   ],
   "source": [
    "df = pd.read_csv('extras/nomos_test_dataset.csv', index_col = 0)\n",
    "df.head(5)"
   ]
  },
  {
   "cell_type": "code",
   "execution_count": null,
   "metadata": {},
   "outputs": [],
   "source": [
    "from helpers.functions import scan, extract_comments\n",
    "df2 = df.loc[0:10]\n",
    "df2 = extract_comments(df2)\n",
    "df2.head(5)"
   ]
  },
  {
   "cell_type": "code",
   "execution_count": 6,
   "metadata": {},
   "outputs": [
    {
     "data": {
      "text/plain": [
       "[{'shortname': 'AAL',\n",
       "  'sim_score': 96.0,\n",
       "  'sim_type': 'SemanticSearch-LVD',\n",
       "  'description': ''}]"
      ]
     },
     "execution_count": 6,
     "metadata": {},
     "output_type": "execute_result"
    }
   ],
   "source": [
    "scan(df2.loc[0, 'file_comments'], pd.read_csv('extras/processedLicenses.csv'))"
   ]
  },
  {
   "cell_type": "markdown",
   "metadata": {},
   "source": [
    "## LLMs"
   ]
  },
  {
   "cell_type": "code",
   "execution_count": 5,
   "metadata": {},
   "outputs": [],
   "source": [
    "client = LLMClient()"
   ]
  },
  {
   "cell_type": "markdown",
   "metadata": {},
   "source": [
    "### LLM for license matching"
   ]
  },
  {
   "cell_type": "markdown",
   "metadata": {},
   "source": [
    "Single Inference"
   ]
  },
  {
   "cell_type": "code",
   "execution_count": 9,
   "metadata": {},
   "outputs": [
    {
     "name": "stdout",
     "output_type": "stream",
     "text": [
      "*   **Licenses = [Attribution Assurance License]**\n",
      "*   **SPDX-IDs = []** \n",
      "\n",
      "While the text describes the \"Attribution Assurance License\", it doesn't provide a formal SPDX identifier for it. \n",
      "\n"
     ]
    }
   ],
   "source": [
    "response = client._infer(model = Models.GEMMA_2_9b, prompt = prompt_for_one_stage_license_matching(df2.loc[0, 'file_comments']), temperature = 0)\n",
    "print(response)"
   ]
  },
  {
   "cell_type": "markdown",
   "metadata": {},
   "source": [
    "Dataset Inference"
   ]
  },
  {
   "cell_type": "code",
   "execution_count": 6,
   "metadata": {},
   "outputs": [],
   "source": [
    "# Requires that the dataframe contains the comments in the 'text' column\n",
    "df2 = df2.rename(columns={'file_comments': 'text'})"
   ]
  },
  {
   "cell_type": "code",
   "execution_count": 8,
   "metadata": {},
   "outputs": [
    {
     "name": "stderr",
     "output_type": "stream",
     "text": [
      "\u001b[32m2024-09-09 10:28:29.563\u001b[0m | \u001b[1mINFO    \u001b[0m | \u001b[36mhelpers.llm_client\u001b[0m:\u001b[36mprocess_dataset\u001b[0m:\u001b[36m330\u001b[0m - \u001b[1mProcessing index: 0\u001b[0m\n",
      "\u001b[32m2024-09-09 10:28:30.459\u001b[0m | \u001b[1mINFO    \u001b[0m | \u001b[36mhelpers.llm_client\u001b[0m:\u001b[36mprocess_dataset\u001b[0m:\u001b[36m330\u001b[0m - \u001b[1mProcessing index: 2\u001b[0m\n",
      "\u001b[32m2024-09-09 10:28:31.664\u001b[0m | \u001b[1mINFO    \u001b[0m | \u001b[36mhelpers.llm_client\u001b[0m:\u001b[36mprocess_dataset\u001b[0m:\u001b[36m330\u001b[0m - \u001b[1mProcessing index: 4\u001b[0m\n",
      "\u001b[32m2024-09-09 10:28:32.892\u001b[0m | \u001b[1mINFO    \u001b[0m | \u001b[36mhelpers.llm_client\u001b[0m:\u001b[36mprocess_dataset\u001b[0m:\u001b[36m330\u001b[0m - \u001b[1mProcessing index: 6\u001b[0m\n",
      "\u001b[32m2024-09-09 10:28:35.349\u001b[0m | \u001b[1mINFO    \u001b[0m | \u001b[36mhelpers.llm_client\u001b[0m:\u001b[36mprocess_dataset\u001b[0m:\u001b[36m330\u001b[0m - \u001b[1mProcessing index: 8\u001b[0m\n",
      "\u001b[32m2024-09-09 10:28:44.261\u001b[0m | \u001b[1mINFO    \u001b[0m | \u001b[36mhelpers.llm_client\u001b[0m:\u001b[36mprocess_dataset\u001b[0m:\u001b[36m330\u001b[0m - \u001b[1mProcessing index: 10\u001b[0m\n"
     ]
    }
   ],
   "source": [
    "df2_result = client.process_dataset(\n",
    "                                    df = df2,\n",
    "                                    model = Models.GEMMA_2_9b,\n",
    "                                    prompt_function = prompt_for_one_stage_license_matching,\n",
    "                                    output_name = 'nomos_test_10_samples_license_matching',\n",
    "                                    log_every = 2,\n",
    "                                )"
   ]
  },
  {
   "cell_type": "code",
   "execution_count": 14,
   "metadata": {},
   "outputs": [
    {
     "data": {
      "text/plain": [
       "0    *   **Licenses = [Attribution Assurance License]**\\n*   **SPDX-IDs = []** \\n\\nWhile the text des...\n",
       "1    *   **Licenses = [ATTRIBUTION ASSURANCE LICENSE]**\\n*   **SPDX-IDs = []** \\n\\n\\nWhile the text d...\n",
       "2    *   **Licenses = [Permission Notice]**\\n*   **SPDX-IDs = []** \\n\\n**Explanation:**\\n\\nWhile the ...\n",
       "3    *   **Licenses = [\"U.S. Government Unlimited Rights\"]**\\n*   **SPDX-IDs = [\"USGovUnlimitedRights...\n",
       "4    *   **Licenses = [Permissive License]**\\n*   **SPDX-IDs = [MIT License]** \\n\\n**Evidence:**\\n\\nT...\n",
       "5    *   **Licenses = [Adobe Systems Incorporated(r) Source Code License Agreement]**\\n*   **SPDX-IDs...\n",
       "Name: response, dtype: object"
      ]
     },
     "execution_count": 14,
     "metadata": {},
     "output_type": "execute_result"
    }
   ],
   "source": [
    "pd.set_option('display.max_colwidth', 100)  # Show full column width\n",
    "df2_result['response'].loc[0:5]"
   ]
  },
  {
   "cell_type": "markdown",
   "metadata": {},
   "source": [
    "### License Text Identification"
   ]
  },
  {
   "cell_type": "code",
   "execution_count": 16,
   "metadata": {},
   "outputs": [
    {
     "name": "stderr",
     "output_type": "stream",
     "text": [
      "\u001b[32m2024-09-09 10:33:36.511\u001b[0m | \u001b[1mINFO    \u001b[0m | \u001b[36mhelpers.llm_client\u001b[0m:\u001b[36mprocess_dataset_for_license_text_identification\u001b[0m:\u001b[36m248\u001b[0m - \u001b[1mProcessing index: 0\u001b[0m\n",
      "\u001b[32m2024-09-09 10:33:39.481\u001b[0m | \u001b[1mINFO    \u001b[0m | \u001b[36mhelpers.llm_client\u001b[0m:\u001b[36mprocess_dataset_for_license_text_identification\u001b[0m:\u001b[36m248\u001b[0m - \u001b[1mProcessing index: 2\u001b[0m\n",
      "\u001b[32m2024-09-09 10:33:41.283\u001b[0m | \u001b[1mINFO    \u001b[0m | \u001b[36mhelpers.llm_client\u001b[0m:\u001b[36mprocess_dataset_for_license_text_identification\u001b[0m:\u001b[36m248\u001b[0m - \u001b[1mProcessing index: 4\u001b[0m\n",
      "\u001b[32m2024-09-09 10:33:43.475\u001b[0m | \u001b[1mINFO    \u001b[0m | \u001b[36mhelpers.llm_client\u001b[0m:\u001b[36mprocess_dataset_for_license_text_identification\u001b[0m:\u001b[36m248\u001b[0m - \u001b[1mProcessing index: 6\u001b[0m\n",
      "\u001b[32m2024-09-09 10:33:45.216\u001b[0m | \u001b[1mINFO    \u001b[0m | \u001b[36mhelpers.llm_client\u001b[0m:\u001b[36mprocess_dataset_for_license_text_identification\u001b[0m:\u001b[36m248\u001b[0m - \u001b[1mProcessing index: 8\u001b[0m\n",
      "\u001b[32m2024-09-09 10:33:48.391\u001b[0m | \u001b[1mINFO    \u001b[0m | \u001b[36mhelpers.llm_client\u001b[0m:\u001b[36mprocess_dataset_for_license_text_identification\u001b[0m:\u001b[36m248\u001b[0m - \u001b[1mProcessing index: 10\u001b[0m\n"
     ]
    }
   ],
   "source": [
    "df3 = df.copy(deep=True).loc[0:10]\n",
    "\n",
    "df3_result = client.process_dataset_for_license_text_identification(\n",
    "                                    df = df3,\n",
    "                                    model = Models.GEMMA_2_9b,\n",
    "                                    # defaults to this if not specified\n",
    "                                    prompt_function = prompt_for_license_text_identification, \n",
    "                                    output_name = 'nomos_test_10_samples_license_text_identification',\n",
    "                                    log_every = 2,\n",
    "                                )"
   ]
  },
  {
   "cell_type": "code",
   "execution_count": 18,
   "metadata": {},
   "outputs": [
    {
     "name": "stdout",
     "output_type": "stream",
     "text": [
      "```\n",
      "ATTRIBUTION ASSURANCE LICENSE (adapted from the original BSD license)\n",
      "Redistribution and use in source and binary forms, with or without\n",
      "modification, are permitted provided that the conditions below are met.\n",
      "These conditions require a modest attribution to <AUTHOR> (the\n",
      "\"Author\"), who hopes that its promotional value may help justify the\n",
      "thousands of dollars in otherwise billable time invested in writing\n",
      "this and other freely available, open-source software.\n",
      "\n",
      "1. Redistributions of source code, in whole or part and with or without\n",
      "modification (the \"Code\"), must prominently display this GPG-signed\n",
      "text in verifiable form.\n",
      "2. Redistributions of the Code in binary form must be accompanied by\n",
      "this GPG-signed text in any documentation and, each time the resulting\n",
      "executable program or a program dependent thereon is launched, a\n",
      "prominent display (e.g., splash screen or banner text) of the Author's\n",
      "attribution information, which includes:\n",
      "(a) Name (\"AUTHOR\"),\n",
      "(b) Professional identification (\"PROFESSIONAL IDENTIFICATION\"), and\n",
      "(c) URL (\"URL\").\n",
      "3. Neither the name nor any trademark of the Author may be used to\n",
      "endorse or promote products derived from this software without specific\n",
      "prior written permission.\n",
      "4. Users are entirely responsible, to the exclusion of the Author and\n",
      "any other persons, for compliance with (1) regulations set by owners or\n",
      "administrators of employed equipment, (2) licensing terms of any other\n",
      "software, and (3) local regulations regarding use, including those\n",
      "regarding import, export, and use of encryption software.\n",
      "\n",
      "THIS FREE SOFTWARE IS PROVIDED BY THE AUTHOR \"AS IS\" AND\n",
      "ANY EXPRESS OR IMPLIED WARRANTIES, INCLUDING, BUT NOT\n",
      "LIMITED TO, THE IMPLIED WARRANTIES OF MERCHANTABILITY AND\n",
      "FITNESS FOR A PARTICULAR PURPOSE ARE DISCLAIMED. IN NO\n",
      "EVENT SHALL THE AUTHOR OR ANY CONTRIBUTOR BE LIABLE FOR\n",
      "ANY DIRECT, INDIRECT, INCIDENTAL, SPECIAL, EXEMPLARY, OR\n",
      "CONSEQUENTIAL DAMAGES (INCLUDING, BUT NOT LIMITED TO,\n",
      "EFFECTS OF UNAUTHORIZED OR MALICIOUS NETWORK ACCESS;\n",
      "PROCUREMENT OF SUBSTITUTE GOODS OR SERVICES; LOSS OF USE,\n",
      "DATA, OR PROFITS; OR BUSINESS INTERRUPTION) HOWEVER CAUSED\n",
      "AND ON ANY THEORY OF LIABILITY, WHETHER IN CONTRACT, STRICT\n",
      "LIABILITY, OR TORT (INCLUDING NEGLIGENCE OR OTHERWISE)\n",
      "ARISING IN ANY WAY OUT OF THE USE OF THIS SOFTWARE, EVEN\n",
      "IF ADVISED OF THE POSSIBILITY OF SUCH DAMAGE.\n",
      "--End of License\n",
      "```\n"
     ]
    }
   ],
   "source": [
    "print(df3.loc[0, 'response'])"
   ]
  },
  {
   "cell_type": "code",
   "execution_count": 25,
   "metadata": {},
   "outputs": [
    {
     "name": "stdout",
     "output_type": "stream",
     "text": [
      "\n",
      "ATTRIBUTION ASSURANCE LICENSE (adapted from the original BSD license)\n",
      "Redistribution and use in source and binary forms, with or without\n",
      "modification, are permitted provided that the conditions below are met.\n",
      "These conditions require a modest attribution to <AUTHOR> (the\n",
      "\"Author\"), who hopes that its promotional value may help justify the\n",
      "thousands of dollars in otherwise billable time invested in writing\n",
      "this and other freely available, open-source software.\n",
      "\n",
      "1. Redistributions of source code, in whole or part and with or without\n",
      "modification (the \"Code\"), must prominently display this GPG-signed\n",
      "text in verifiable form.\n",
      "2. Redistributions of the Code in binary form must be accompanied by\n",
      "this GPG-signed text in any documentation and, each time the resulting\n",
      "executable program or a program dependent thereon is launched, a\n",
      "prominent display (e.g., splash screen or banner text) of the Author's\n",
      "attribution information, which includes:\n",
      "(a) Name (\"AUTHOR\"),\n",
      "(b) Professional identification (\"PROFESSIONAL IDENTIFICATION\"), and\n",
      "(c) URL (\"URL\").\n",
      "3. Neither the name nor any trademark of the Author may be used to\n",
      "endorse or promote products derived from this software without specific\n",
      "prior written permission.\n",
      "4. Users are entirely responsible, to the exclusion of the Author and\n",
      "any other persons, for compliance with (1) regulations set by owners or\n",
      "administrators of employed equipment, (2) licensing terms of any other\n",
      "software, and (3) local regulations regarding use, including those\n",
      "regarding import, export, and use of encryption software.\n",
      "\n",
      "THIS FREE SOFTWARE IS PROVIDED BY THE AUTHOR \"AS IS\" AND\n",
      "ANY EXPRESS OR IMPLIED WARRANTIES, INCLUDING, BUT NOT\n",
      "LIMITED TO, THE IMPLIED WARRANTIES OF MERCHANTABILITY AND\n",
      "FITNESS FOR A PARTICULAR PURPOSE ARE DISCLAIMED. IN NO\n",
      "EVENT SHALL THE AUTHOR OR ANY CONTRIBUTOR BE LIABLE FOR\n",
      "ANY DIRECT, INDIRECT, INCIDENTAL, SPECIAL, EXEMPLARY, OR\n",
      "CONSEQUENTIAL DAMAGES (INCLUDING, BUT NOT LIMITED TO,\n",
      "EFFECTS OF UNAUTHORIZED OR MALICIOUS NETWORK ACCESS;\n",
      "PROCUREMENT OF SUBSTITUTE GOODS OR SERVICES; LOSS OF USE,\n",
      "DATA, OR PROFITS; OR BUSINESS INTERRUPTION) HOWEVER CAUSED\n",
      "AND ON ANY THEORY OF LIABILITY, WHETHER IN CONTRACT, STRICT\n",
      "LIABILITY, OR TORT (INCLUDING NEGLIGENCE OR OTHERWISE)\n",
      "ARISING IN ANY WAY OUT OF THE USE OF THIS SOFTWARE, EVEN\n",
      "IF ADVISED OF THE POSSIBILITY OF SUCH DAMAGE.\n",
      "--End of License\n",
      "\n"
     ]
    }
   ],
   "source": [
    "# Simple parser to extract the license text from between the (```) (```) symbols\n",
    "\n",
    "def parse_response(response):\n",
    "    try:\n",
    "        pattern = r\"```.*```\"\n",
    "        matches = re.findall(pattern, response, re.DOTALL)\n",
    "        return matches[0][3:-3]\n",
    "    except:\n",
    "        return '' \n",
    "\n",
    "df3 = df3[df3['response'].notna()]\n",
    "\n",
    "df3['extracted_response'] = df3['response'].apply(lambda x: parse_response(x))\n",
    "\n",
    "print(df3.loc[0, 'extracted_response'])"
   ]
  },
  {
   "cell_type": "markdown",
   "metadata": {},
   "source": [
    "### Obligation Clause Verification"
   ]
  },
  {
   "cell_type": "code",
   "execution_count": 2,
   "metadata": {},
   "outputs": [
    {
     "data": {
      "text/html": [
       "<div>\n",
       "<style scoped>\n",
       "    .dataframe tbody tr th:only-of-type {\n",
       "        vertical-align: middle;\n",
       "    }\n",
       "\n",
       "    .dataframe tbody tr th {\n",
       "        vertical-align: top;\n",
       "    }\n",
       "\n",
       "    .dataframe thead th {\n",
       "        text-align: right;\n",
       "    }\n",
       "</style>\n",
       "<table border=\"1\" class=\"dataframe\">\n",
       "  <thead>\n",
       "    <tr style=\"text-align: right;\">\n",
       "      <th></th>\n",
       "      <th>License Name</th>\n",
       "      <th>License ID</th>\n",
       "      <th>License Text</th>\n",
       "      <th>Obligations</th>\n",
       "      <th>response</th>\n",
       "    </tr>\n",
       "  </thead>\n",
       "  <tbody>\n",
       "    <tr>\n",
       "      <th>0</th>\n",
       "      <td>Universal Permissive License v1.0</td>\n",
       "      <td>UPL-1.0</td>\n",
       "      <td>Copyright (c) [year] [copyright holders]\\n\\nTh...</td>\n",
       "      <td>USE CASE Source code delivery OR Binary delive...</td>\n",
       "      <td>Here is the evaluation of each clause against ...</td>\n",
       "    </tr>\n",
       "    <tr>\n",
       "      <th>1</th>\n",
       "      <td>Common Development and Distribution License 1.0</td>\n",
       "      <td>CDDL-1.0</td>\n",
       "      <td>COMMON DEVELOPMENT AND DISTRIBUTION LICENSE (C...</td>\n",
       "      <td>USE CASE Source code delivery\\n\\tYOU MUST Prov...</td>\n",
       "      <td>Here is the evaluation of each clause against ...</td>\n",
       "    </tr>\n",
       "    <tr>\n",
       "      <th>2</th>\n",
       "      <td>Zope Public License 2.0</td>\n",
       "      <td>ZPL-2.0</td>\n",
       "      <td>Zope Public License (ZPL) Version 2.0\\n\\nThis ...</td>\n",
       "      <td>USE CASE Source code delivery\\n\\tYOU MUST Forw...</td>\n",
       "      <td>Here is the evaluation of each clause within t...</td>\n",
       "    </tr>\n",
       "    <tr>\n",
       "      <th>3</th>\n",
       "      <td>W3C Software Notice and Document License (2015...</td>\n",
       "      <td>W3C-20150513</td>\n",
       "      <td>This work is being provided by the copyright h...</td>\n",
       "      <td>USE CASE Source code delivery OR Binary delive...</td>\n",
       "      <td>Here is the evaluation of each clause against ...</td>\n",
       "    </tr>\n",
       "    <tr>\n",
       "      <th>4</th>\n",
       "      <td>IBM Public License v1.0</td>\n",
       "      <td>IPL-1.0</td>\n",
       "      <td>IBM Public License Version 1.0\\n\\nTHE ACCOMPAN...</td>\n",
       "      <td>USE CASE Source code delivery\\n\\tYOU MUST Prov...</td>\n",
       "      <td>Here is the evaluation of each clause against ...</td>\n",
       "    </tr>\n",
       "  </tbody>\n",
       "</table>\n",
       "</div>"
      ],
      "text/plain": [
       "                                        License Name    License ID  \\\n",
       "0                  Universal Permissive License v1.0       UPL-1.0   \n",
       "1    Common Development and Distribution License 1.0      CDDL-1.0   \n",
       "2                            Zope Public License 2.0       ZPL-2.0   \n",
       "3  W3C Software Notice and Document License (2015...  W3C-20150513   \n",
       "4                            IBM Public License v1.0       IPL-1.0   \n",
       "\n",
       "                                        License Text  \\\n",
       "0  Copyright (c) [year] [copyright holders]\\n\\nTh...   \n",
       "1  COMMON DEVELOPMENT AND DISTRIBUTION LICENSE (C...   \n",
       "2  Zope Public License (ZPL) Version 2.0\\n\\nThis ...   \n",
       "3  This work is being provided by the copyright h...   \n",
       "4  IBM Public License Version 1.0\\n\\nTHE ACCOMPAN...   \n",
       "\n",
       "                                         Obligations  \\\n",
       "0  USE CASE Source code delivery OR Binary delive...   \n",
       "1  USE CASE Source code delivery\\n\\tYOU MUST Prov...   \n",
       "2  USE CASE Source code delivery\\n\\tYOU MUST Forw...   \n",
       "3  USE CASE Source code delivery OR Binary delive...   \n",
       "4  USE CASE Source code delivery\\n\\tYOU MUST Prov...   \n",
       "\n",
       "                                            response  \n",
       "0  Here is the evaluation of each clause against ...  \n",
       "1  Here is the evaluation of each clause against ...  \n",
       "2  Here is the evaluation of each clause within t...  \n",
       "3  Here is the evaluation of each clause against ...  \n",
       "4  Here is the evaluation of each clause against ...  "
      ]
     },
     "execution_count": 2,
     "metadata": {},
     "output_type": "execute_result"
    }
   ],
   "source": [
    "obligation_dataset = pd.read_csv('extras/obligation_clause_verification_dataset.csv', index_col = 0)\n",
    "obligation_dataset.head(5) "
   ]
  },
  {
   "cell_type": "code",
   "execution_count": 21,
   "metadata": {},
   "outputs": [
    {
     "data": {
      "text/html": [
       "<div>\n",
       "<style scoped>\n",
       "    .dataframe tbody tr th:only-of-type {\n",
       "        vertical-align: middle;\n",
       "    }\n",
       "\n",
       "    .dataframe tbody tr th {\n",
       "        vertical-align: top;\n",
       "    }\n",
       "\n",
       "    .dataframe thead th {\n",
       "        text-align: right;\n",
       "    }\n",
       "</style>\n",
       "<table border=\"1\" class=\"dataframe\">\n",
       "  <thead>\n",
       "    <tr style=\"text-align: right;\">\n",
       "      <th></th>\n",
       "      <th>License Name</th>\n",
       "      <th>License ID</th>\n",
       "      <th>License Text</th>\n",
       "      <th>Obligations</th>\n",
       "    </tr>\n",
       "  </thead>\n",
       "  <tbody>\n",
       "    <tr>\n",
       "      <th>0</th>\n",
       "      <td>Universal Permissive License v1.0</td>\n",
       "      <td>UPL-1.0</td>\n",
       "      <td>Copyright (c) [year] [copyright holders]\\n\\nThe Universal Permissive License (UPL), Version 1.0\\...</td>\n",
       "      <td>USE CASE Source code delivery OR Binary delivery\\n\\tYOU MUST Provide Copyright notices\\n\\tEITHER...</td>\n",
       "    </tr>\n",
       "    <tr>\n",
       "      <th>1</th>\n",
       "      <td>Common Development and Distribution License 1.0</td>\n",
       "      <td>CDDL-1.0</td>\n",
       "      <td>COMMON DEVELOPMENT AND DISTRIBUTION LICENSE (CDDL)\\nVersion 1.0\\n\\n1. Definitions.\\n\\n1.1. “Cont...</td>\n",
       "      <td>USE CASE Source code delivery\\n\\tYOU MUST Provide License text\\n\\tYOU MUST NOT Modify Copyright ...</td>\n",
       "    </tr>\n",
       "    <tr>\n",
       "      <th>2</th>\n",
       "      <td>Zope Public License 2.0</td>\n",
       "      <td>ZPL-2.0</td>\n",
       "      <td>Zope Public License (ZPL) Version 2.0\\n\\nThis software is Copyright (c) Zope Corporation (tm) an...</td>\n",
       "      <td>USE CASE Source code delivery\\n\\tYOU MUST Forward Copyright notices\\n\\tYOU MUST Forward License ...</td>\n",
       "    </tr>\n",
       "    <tr>\n",
       "      <th>3</th>\n",
       "      <td>W3C Software Notice and Document License (2015-05-13)</td>\n",
       "      <td>W3C-20150513</td>\n",
       "      <td>This work is being provided by the copyright holders under the following license.\\n\\nLicense\\nBy...</td>\n",
       "      <td>USE CASE Source code delivery OR Binary delivery\\n\\tYOU MUST Provide License text\\n\\t\\tATTRIBUTE...</td>\n",
       "    </tr>\n",
       "    <tr>\n",
       "      <th>4</th>\n",
       "      <td>IBM Public License v1.0</td>\n",
       "      <td>IPL-1.0</td>\n",
       "      <td>IBM Public License Version 1.0\\n\\nTHE ACCOMPANYING PROGRAM IS PROVIDED UNDER THE TERMS OF THIS I...</td>\n",
       "      <td>USE CASE Source code delivery\\n\\tYOU MUST Provide License text\\n\\tYOU MUST Credit Verbatim \"Copy...</td>\n",
       "    </tr>\n",
       "  </tbody>\n",
       "</table>\n",
       "</div>"
      ],
      "text/plain": [
       "                                            License Name    License ID  \\\n",
       "0                      Universal Permissive License v1.0       UPL-1.0   \n",
       "1        Common Development and Distribution License 1.0      CDDL-1.0   \n",
       "2                                Zope Public License 2.0       ZPL-2.0   \n",
       "3  W3C Software Notice and Document License (2015-05-13)  W3C-20150513   \n",
       "4                                IBM Public License v1.0       IPL-1.0   \n",
       "\n",
       "                                                                                          License Text  \\\n",
       "0  Copyright (c) [year] [copyright holders]\\n\\nThe Universal Permissive License (UPL), Version 1.0\\...   \n",
       "1  COMMON DEVELOPMENT AND DISTRIBUTION LICENSE (CDDL)\\nVersion 1.0\\n\\n1. Definitions.\\n\\n1.1. “Cont...   \n",
       "2  Zope Public License (ZPL) Version 2.0\\n\\nThis software is Copyright (c) Zope Corporation (tm) an...   \n",
       "3  This work is being provided by the copyright holders under the following license.\\n\\nLicense\\nBy...   \n",
       "4  IBM Public License Version 1.0\\n\\nTHE ACCOMPANYING PROGRAM IS PROVIDED UNDER THE TERMS OF THIS I...   \n",
       "\n",
       "                                                                                           Obligations  \n",
       "0  USE CASE Source code delivery OR Binary delivery\\n\\tYOU MUST Provide Copyright notices\\n\\tEITHER...  \n",
       "1  USE CASE Source code delivery\\n\\tYOU MUST Provide License text\\n\\tYOU MUST NOT Modify Copyright ...  \n",
       "2  USE CASE Source code delivery\\n\\tYOU MUST Forward Copyright notices\\n\\tYOU MUST Forward License ...  \n",
       "3  USE CASE Source code delivery OR Binary delivery\\n\\tYOU MUST Provide License text\\n\\t\\tATTRIBUTE...  \n",
       "4  USE CASE Source code delivery\\n\\tYOU MUST Provide License text\\n\\tYOU MUST Credit Verbatim \"Copy...  "
      ]
     },
     "execution_count": 21,
     "metadata": {},
     "output_type": "execute_result"
    }
   ],
   "source": [
    "# Already contains responses from a previous run, let's drop them\n",
    "obligation_dataset.drop(columns=['response'], inplace=True)\n",
    "obligation_dataset.head(5)"
   ]
  },
  {
   "cell_type": "code",
   "execution_count": 23,
   "metadata": {},
   "outputs": [
    {
     "name": "stderr",
     "output_type": "stream",
     "text": [
      "\u001b[32m2024-09-09 10:38:01.318\u001b[0m | \u001b[1mINFO    \u001b[0m | \u001b[36mhelpers.llm_client\u001b[0m:\u001b[36mprocess_dataset_for_obligation_clause_verification\u001b[0m:\u001b[36m415\u001b[0m - \u001b[1mProcessing index: 0\u001b[0m\n",
      "/home/jimbo/Desktop/GSoC24/GSoC-24/helpers/llm_client.py:418: SettingWithCopyWarning: \n",
      "A value is trying to be set on a copy of a slice from a DataFrame.\n",
      "Try using .loc[row_indexer,col_indexer] = value instead\n",
      "\n",
      "See the caveats in the documentation: https://pandas.pydata.org/pandas-docs/stable/user_guide/indexing.html#returning-a-view-versus-a-copy\n",
      "  df.loc[index, 'response'] = self._infer(model, prompt, temperature)\n",
      "\u001b[32m2024-09-09 10:38:02.245\u001b[0m | \u001b[1mINFO    \u001b[0m | \u001b[36mhelpers.llm_client\u001b[0m:\u001b[36mprocess_dataset_for_obligation_clause_verification\u001b[0m:\u001b[36m415\u001b[0m - \u001b[1mProcessing index: 1\u001b[0m\n",
      "\u001b[32m2024-09-09 10:38:09.922\u001b[0m | \u001b[1mINFO    \u001b[0m | \u001b[36mhelpers.llm_client\u001b[0m:\u001b[36mprocess_dataset_for_obligation_clause_verification\u001b[0m:\u001b[36m415\u001b[0m - \u001b[1mProcessing index: 2\u001b[0m\n",
      "\u001b[32m2024-09-09 10:38:11.256\u001b[0m | \u001b[1mINFO    \u001b[0m | \u001b[36mhelpers.llm_client\u001b[0m:\u001b[36mprocess_dataset_for_obligation_clause_verification\u001b[0m:\u001b[36m415\u001b[0m - \u001b[1mProcessing index: 3\u001b[0m\n",
      "\u001b[32m2024-09-09 10:38:12.302\u001b[0m | \u001b[1mINFO    \u001b[0m | \u001b[36mhelpers.llm_client\u001b[0m:\u001b[36mprocess_dataset_for_obligation_clause_verification\u001b[0m:\u001b[36m415\u001b[0m - \u001b[1mProcessing index: 4\u001b[0m\n",
      "\u001b[32m2024-09-09 10:38:14.529\u001b[0m | \u001b[1mINFO    \u001b[0m | \u001b[36mhelpers.llm_client\u001b[0m:\u001b[36mprocess_dataset_for_obligation_clause_verification\u001b[0m:\u001b[36m415\u001b[0m - \u001b[1mProcessing index: 5\u001b[0m\n",
      "\u001b[32m2024-09-09 10:38:26.715\u001b[0m | \u001b[1mINFO    \u001b[0m | \u001b[36mhelpers.llm_client\u001b[0m:\u001b[36mprocess_dataset_for_obligation_clause_verification\u001b[0m:\u001b[36m415\u001b[0m - \u001b[1mProcessing index: 6\u001b[0m\n",
      "\u001b[32m2024-09-09 10:38:50.684\u001b[0m | \u001b[1mINFO    \u001b[0m | \u001b[36mhelpers.llm_client\u001b[0m:\u001b[36mprocess_dataset_for_obligation_clause_verification\u001b[0m:\u001b[36m415\u001b[0m - \u001b[1mProcessing index: 7\u001b[0m\n",
      "\u001b[32m2024-09-09 10:39:00.815\u001b[0m | \u001b[1mINFO    \u001b[0m | \u001b[36mhelpers.llm_client\u001b[0m:\u001b[36mprocess_dataset_for_obligation_clause_verification\u001b[0m:\u001b[36m415\u001b[0m - \u001b[1mProcessing index: 8\u001b[0m\n",
      "\u001b[32m2024-09-09 10:39:17.620\u001b[0m | \u001b[1mINFO    \u001b[0m | \u001b[36mhelpers.llm_client\u001b[0m:\u001b[36mprocess_dataset_for_obligation_clause_verification\u001b[0m:\u001b[36m415\u001b[0m - \u001b[1mProcessing index: 9\u001b[0m\n",
      "\u001b[32m2024-09-09 10:39:18.398\u001b[0m | \u001b[1mINFO    \u001b[0m | \u001b[36mhelpers.llm_client\u001b[0m:\u001b[36mprocess_dataset_for_obligation_clause_verification\u001b[0m:\u001b[36m415\u001b[0m - \u001b[1mProcessing index: 10\u001b[0m\n"
     ]
    }
   ],
   "source": [
    "obligation_dataset_result = client.process_dataset_for_obligation_clause_verification(\n",
    "                                    df = obligation_dataset.loc[0:10],\n",
    "                                    model = Models.GEMMA_2_9b,\n",
    "                                    # defaults to this if not specified\n",
    "                                    prompt_function = prompt_for_obligation_clause_verification, \n",
    "                                    output_name = 'obligation_dataset_test_sample',\n",
    "                                    log_every = 1,\n",
    "                                )"
   ]
  },
  {
   "cell_type": "code",
   "execution_count": 24,
   "metadata": {},
   "outputs": [
    {
     "name": "stdout",
     "output_type": "stream",
     "text": [
      "Clause: YOU MUST Provide Copyright notices\n",
      "Result: valid\n",
      "Explanation: The license text states: \"The above copyright notice and either this complete permission notice or at a minimum a reference to the UPL must be included in all copies or substantial portions of the Software.\"\n",
      "\n",
      "Clause: YOU MUST Provide License text\n",
      "Result: partially valid\n",
      "Explanation: The license text requires either the complete permission notice or a reference to the UPL. Providing the full license text is one way to fulfill this requirement.\n",
      "\n",
      "Clause: YOU MUST Reference License text\n",
      "Result: partially valid\n",
      "Explanation: The license text requires either the complete permission notice or a reference to the UPL. Referencing the UPL is another way to fulfill this requirement. \n",
      "\n",
      "\n",
      "\n"
     ]
    }
   ],
   "source": [
    "print(obligation_dataset_result.loc[0, 'response'])"
   ]
  },
  {
   "cell_type": "markdown",
   "metadata": {},
   "source": [
    "### License Compatibility through Obligations"
   ]
  },
  {
   "cell_type": "code",
   "execution_count": 3,
   "metadata": {},
   "outputs": [
    {
     "data": {
      "text/html": [
       "<div>\n",
       "<style scoped>\n",
       "    .dataframe tbody tr th:only-of-type {\n",
       "        vertical-align: middle;\n",
       "    }\n",
       "\n",
       "    .dataframe tbody tr th {\n",
       "        vertical-align: top;\n",
       "    }\n",
       "\n",
       "    .dataframe thead th {\n",
       "        text-align: right;\n",
       "    }\n",
       "</style>\n",
       "<table border=\"1\" class=\"dataframe\">\n",
       "  <thead>\n",
       "    <tr style=\"text-align: right;\">\n",
       "      <th></th>\n",
       "      <th>License Name_a</th>\n",
       "      <th>License ID_a</th>\n",
       "      <th>License Text_a</th>\n",
       "      <th>Obligations_a</th>\n",
       "      <th>response_a</th>\n",
       "      <th>License Name_b</th>\n",
       "      <th>License ID_b</th>\n",
       "      <th>License Text_b</th>\n",
       "      <th>Obligations_b</th>\n",
       "      <th>response_b</th>\n",
       "    </tr>\n",
       "  </thead>\n",
       "  <tbody>\n",
       "    <tr>\n",
       "      <th>0</th>\n",
       "      <td>Universal Permissive License v1.0</td>\n",
       "      <td>UPL-1.0</td>\n",
       "      <td>Copyright (c) [year] [copyright holders]\\n\\nTh...</td>\n",
       "      <td>USE CASE Source code delivery OR Binary delive...</td>\n",
       "      <td>Here is the evaluation of each clause against ...</td>\n",
       "      <td>Common Development and Distribution License 1.0</td>\n",
       "      <td>CDDL-1.0</td>\n",
       "      <td>COMMON DEVELOPMENT AND DISTRIBUTION LICENSE (C...</td>\n",
       "      <td>USE CASE Source code delivery\\n\\tYOU MUST Prov...</td>\n",
       "      <td>Here is the evaluation of each clause against ...</td>\n",
       "    </tr>\n",
       "    <tr>\n",
       "      <th>1</th>\n",
       "      <td>Zope Public License 2.0</td>\n",
       "      <td>ZPL-2.0</td>\n",
       "      <td>Zope Public License (ZPL) Version 2.0\\n\\nThis ...</td>\n",
       "      <td>USE CASE Source code delivery\\n\\tYOU MUST Forw...</td>\n",
       "      <td>Here is the evaluation of each clause within t...</td>\n",
       "      <td>W3C Software Notice and Document License (2015...</td>\n",
       "      <td>W3C-20150513</td>\n",
       "      <td>This work is being provided by the copyright h...</td>\n",
       "      <td>USE CASE Source code delivery OR Binary delive...</td>\n",
       "      <td>Here is the evaluation of each clause against ...</td>\n",
       "    </tr>\n",
       "    <tr>\n",
       "      <th>2</th>\n",
       "      <td>IBM Public License v1.0</td>\n",
       "      <td>IPL-1.0</td>\n",
       "      <td>IBM Public License Version 1.0\\n\\nTHE ACCOMPAN...</td>\n",
       "      <td>USE CASE Source code delivery\\n\\tYOU MUST Prov...</td>\n",
       "      <td>Here is the evaluation of each clause against ...</td>\n",
       "      <td>Open Software License 3.0</td>\n",
       "      <td>OSL-3.0</td>\n",
       "      <td>Open Software License v. 3.0 (OSL-3.0)\\n\\nThis...</td>\n",
       "      <td>USE CASE Source code delivery\\n\\tYOU MUST Refe...</td>\n",
       "      <td>Here is the evaluation of each clause within t...</td>\n",
       "    </tr>\n",
       "    <tr>\n",
       "      <th>3</th>\n",
       "      <td>GNU General Public License v1.0 or later</td>\n",
       "      <td>GPL-1.0-or-later</td>\n",
       "      <td>GNU GENERAL PUBLIC LICENSE\\nVersion 1, Februar...</td>\n",
       "      <td>USE CASE Source code delivery\\n\\tYOU MUST Prov...</td>\n",
       "      <td>Here is the evaluation of each clause against ...</td>\n",
       "      <td>X11 License</td>\n",
       "      <td>X11</td>\n",
       "      <td>X11 License\\n\\nCopyright (C) 1996 X Consortium...</td>\n",
       "      <td>USE CASE Source code delivery OR Binary delive...</td>\n",
       "      <td>Here is the evaluation of each clause against ...</td>\n",
       "    </tr>\n",
       "    <tr>\n",
       "      <th>4</th>\n",
       "      <td>Common Public License 1.0</td>\n",
       "      <td>CPL-1.0</td>\n",
       "      <td>Common Public License Version 1.0\\n\\nTHE ACCOM...</td>\n",
       "      <td>USE CASE Source code delivery\\n\\tYOU MUST Prov...</td>\n",
       "      <td>Here is the evaluation of each clause against ...</td>\n",
       "      <td>FSF Unlimited License (With License Retention ...</td>\n",
       "      <td>FSFULLRWD</td>\n",
       "      <td>Copyright (C) 1994, 1995, 1996, 1997, 1998, 19...</td>\n",
       "      <td>USE CASE Source code delivery OR Binary delive...</td>\n",
       "      <td>Here is the analysis of the obligations agains...</td>\n",
       "    </tr>\n",
       "  </tbody>\n",
       "</table>\n",
       "</div>"
      ],
      "text/plain": [
       "                             License Name_a      License ID_a  \\\n",
       "0         Universal Permissive License v1.0           UPL-1.0   \n",
       "1                   Zope Public License 2.0           ZPL-2.0   \n",
       "2                   IBM Public License v1.0           IPL-1.0   \n",
       "3  GNU General Public License v1.0 or later  GPL-1.0-or-later   \n",
       "4                 Common Public License 1.0           CPL-1.0   \n",
       "\n",
       "                                      License Text_a  \\\n",
       "0  Copyright (c) [year] [copyright holders]\\n\\nTh...   \n",
       "1  Zope Public License (ZPL) Version 2.0\\n\\nThis ...   \n",
       "2  IBM Public License Version 1.0\\n\\nTHE ACCOMPAN...   \n",
       "3  GNU GENERAL PUBLIC LICENSE\\nVersion 1, Februar...   \n",
       "4  Common Public License Version 1.0\\n\\nTHE ACCOM...   \n",
       "\n",
       "                                       Obligations_a  \\\n",
       "0  USE CASE Source code delivery OR Binary delive...   \n",
       "1  USE CASE Source code delivery\\n\\tYOU MUST Forw...   \n",
       "2  USE CASE Source code delivery\\n\\tYOU MUST Prov...   \n",
       "3  USE CASE Source code delivery\\n\\tYOU MUST Prov...   \n",
       "4  USE CASE Source code delivery\\n\\tYOU MUST Prov...   \n",
       "\n",
       "                                          response_a  \\\n",
       "0  Here is the evaluation of each clause against ...   \n",
       "1  Here is the evaluation of each clause within t...   \n",
       "2  Here is the evaluation of each clause against ...   \n",
       "3  Here is the evaluation of each clause against ...   \n",
       "4  Here is the evaluation of each clause against ...   \n",
       "\n",
       "                                      License Name_b  License ID_b  \\\n",
       "0    Common Development and Distribution License 1.0      CDDL-1.0   \n",
       "1  W3C Software Notice and Document License (2015...  W3C-20150513   \n",
       "2                          Open Software License 3.0       OSL-3.0   \n",
       "3                                        X11 License           X11   \n",
       "4  FSF Unlimited License (With License Retention ...     FSFULLRWD   \n",
       "\n",
       "                                      License Text_b  \\\n",
       "0  COMMON DEVELOPMENT AND DISTRIBUTION LICENSE (C...   \n",
       "1  This work is being provided by the copyright h...   \n",
       "2  Open Software License v. 3.0 (OSL-3.0)\\n\\nThis...   \n",
       "3  X11 License\\n\\nCopyright (C) 1996 X Consortium...   \n",
       "4  Copyright (C) 1994, 1995, 1996, 1997, 1998, 19...   \n",
       "\n",
       "                                       Obligations_b  \\\n",
       "0  USE CASE Source code delivery\\n\\tYOU MUST Prov...   \n",
       "1  USE CASE Source code delivery OR Binary delive...   \n",
       "2  USE CASE Source code delivery\\n\\tYOU MUST Refe...   \n",
       "3  USE CASE Source code delivery OR Binary delive...   \n",
       "4  USE CASE Source code delivery OR Binary delive...   \n",
       "\n",
       "                                          response_b  \n",
       "0  Here is the evaluation of each clause against ...  \n",
       "1  Here is the evaluation of each clause against ...  \n",
       "2  Here is the evaluation of each clause within t...  \n",
       "3  Here is the evaluation of each clause against ...  \n",
       "4  Here is the analysis of the obligations agains...  "
      ]
     },
     "execution_count": 3,
     "metadata": {},
     "output_type": "execute_result"
    }
   ],
   "source": [
    "# Create a smaller dataset for analysis\n",
    "obligation_dataset_2 = obligation_dataset.copy(deep=True).loc[0:9]\n",
    "\n",
    "df_even = obligation_dataset_2.iloc[::2].copy()  \n",
    "df_odd = obligation_dataset_2.iloc[1::2].copy()  \n",
    "df_even.reset_index(drop=True, inplace=True)\n",
    "df_odd.reset_index(drop=True, inplace=True)\n",
    "df_even = df_even.add_suffix('_a')\n",
    "df_odd = df_odd.add_suffix('_b')\n",
    "df_combined = pd.concat([df_even, df_odd], axis=1)\n",
    "df_combined.fillna('', inplace=True)\n",
    "df_combined.head(5)"
   ]
  },
  {
   "cell_type": "code",
   "execution_count": null,
   "metadata": {},
   "outputs": [],
   "source": [
    "response = client._infer(\n",
    "                model = Models.GEMMA_2_9b,\n",
    "                prompt = prompt_for_license_compatibility_through_obligations(\n",
    "                                                                    df_combined.loc[0, 'Obligations_a'],\n",
    "                                                                    df_combined.loc[0, 'Obligations_b']\n",
    "                                                                ),\n",
    "                                                            ),"
   ]
  },
  {
   "cell_type": "code",
   "execution_count": 12,
   "metadata": {},
   "outputs": [
    {
     "name": "stdout",
     "output_type": "stream",
     "text": [
      "## License Obligation Analysis:\n",
      "\n",
      "Here's a breakdown of the obligations imposed by each license, followed by an overall verdict:\n",
      "\n",
      "**License Obligations A:**\n",
      "\n",
      "* **Attribution:** Requires providing copyright notices and either the full license text or a reference to it. No specific format restrictions are mentioned.\n",
      "* **Copyleft/ShareAlike:**  No copyleft or ShareAlike provisions are present.\n",
      "* **Modification and Distribution:** Allows modification of the software. No specific conditions or restrictions on distribution are mentioned. Source code disclosure for modifications is not required.\n",
      "* **Commercial Use:**  No explicit restrictions on commercial use.\n",
      "* **Patent Grants:**  No patent grants or licenses are mentioned.\n",
      "* **Liability and Warranty Disclaimers:**  No disclaimers of liability or warranty are mentioned.\n",
      "* **Additional Considerations:**  The license is very permissive, focusing primarily on attribution.\n",
      "\n",
      "**License Obligations B:**\n",
      "\n",
      "* **Attribution:** Requires providing the original license text and attributing copyright, patent, and trademark notices.  \n",
      "* **Copyleft/ShareAlike:** Includes a copyleft clause. Any modifications must be licensed under the same terms as the original license, attribute the original license, and provide copyright notices.\n",
      "* **Modification and Distribution:** Allows modification but requires licensing modifications under the same terms as the original license. Source code disclosure for modifications is required.\n",
      "* **Commercial Use:** No explicit restrictions on commercial use.\n",
      "* **Patent Grants:**  Mentions \"Patent Hints\" but doesn't specify any patent grants or licenses.\n",
      "* **Liability and Warranty Disclaimers:**  No disclaimers of liability or warranty are mentioned.\n",
      "* **Additional Considerations:**\n",
      "    * **Compatibility:**  Specifies compatibility with a wide range of open-source licenses, including BSD, MIT, and others.\n",
      "    * **Indemnification:** Requires indemnification of other contributors if the license is changed.\n",
      "\n",
      "**Overall Verdict:**\n",
      "\n",
      "The licenses have significant conflicts. \n",
      "\n",
      "* **Copyleft:** License B's copyleft clause directly contradicts License A's permissive nature. License A allows modifications to be distributed under any license, while License B requires them to be licensed under the same terms.\n",
      "* **Attribution:** While both licenses require attribution, License B has stricter requirements regarding the preservation of original notices.\n",
      "\n",
      "**Compliance Challenges:**\n",
      "\n",
      "Simultaneously complying with both licenses would be extremely difficult.  \n",
      "\n",
      "* **Modifications:**  Any modifications made under License A could not be distributed under License B due to the copyleft clause.\n",
      "* **License Changes:**  Changing the license of a work originally licensed under License B would require indemnifying other contributors, which might not be feasible.\n",
      "\n",
      "**Recommendation:**\n",
      "\n",
      "It is highly recommended to choose one license and adhere to its terms consistently.  \n",
      "\n",
      "\n",
      "\n"
     ]
    }
   ],
   "source": [
    "print(response[0])"
   ]
  }
 ],
 "metadata": {
  "kernelspec": {
   "display_name": "gsoc24env",
   "language": "python",
   "name": "python3"
  },
  "language_info": {
   "codemirror_mode": {
    "name": "ipython",
    "version": 3
   },
   "file_extension": ".py",
   "mimetype": "text/x-python",
   "name": "python",
   "nbconvert_exporter": "python",
   "pygments_lexer": "ipython3",
   "version": "3.8.10"
  }
 },
 "nbformat": 4,
 "nbformat_minor": 2
}
